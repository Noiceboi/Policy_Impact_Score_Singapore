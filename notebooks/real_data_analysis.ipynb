{
 "cells": [
  {
   "cell_type": "markdown",
   "id": "04119d7e",
   "metadata": {},
   "source": [
    "# Singapore Policy Impact Analysis - Real Data Integration\n",
    "\n",
    "This notebook demonstrates the integration and analysis of real Singapore government policy data using our Policy Impact Assessment Framework.\n",
    "\n",
    "## Key Features\n",
    "- **Real Policy Data**: 10 major Singapore policies from 1955-2015\n",
    "- **Comprehensive Assessment**: Multi-dimensional evaluation with actual data\n",
    "- **Time-Series Analysis**: 65+ years of policy evolution tracking\n",
    "- **Economic Context**: GDP and demographic integration\n",
    "- **Evidence-Based Scoring**: Cross-referenced with academic studies\n",
    "\n",
    "## Data Sources\n",
    "- Government official reports and statistics\n",
    "- Academic research institutions (NUS, NTU, SUTD)\n",
    "- Policy research centers and think tanks\n",
    "- International organization studies (World Bank, OECD)"
   ]
  },
  {
   "cell_type": "code",
   "execution_count": null,
   "id": "bb1b9a28",
   "metadata": {},
   "outputs": [],
   "source": [
    "# Import required libraries\n",
    "import pandas as pd\n",
    "import numpy as np\n",
    "import matplotlib.pyplot as plt\n",
    "import seaborn as sns\n",
    "import plotly.graph_objects as go\n",
    "import plotly.express as px\n",
    "from plotly.subplots import make_subplots\n",
    "import sys\n",
    "from datetime import datetime\n",
    "\n",
    "# Add source directory to path\n",
    "sys.path.append('../src')\n",
    "\n",
    "# Import our framework\n",
    "from framework import PolicyAssessmentFramework\n",
    "from models import Policy, AssessmentCriteria, PolicyAssessment\n",
    "from utils import setup_logging\n",
    "\n",
    "print(\"📊 Loading Real Singapore Policy Data...\")\n",
    "print(\"=\" * 50)\n",
    "\n",
    "# Initialize framework\n",
    "framework = PolicyAssessmentFramework()\n",
    "\n",
    "# Load real data using our integration script\n",
    "exec(open('../real_data_integration.py').read())\n",
    "\n",
    "print(\"✅ Real data loaded successfully!\")\n",
    "print(f\"Total policies: {framework.policies.total_policies}\")\n",
    "print(f\"Assessment coverage: {framework.generate_summary_report()['assessment_coverage']:.1f}%\")"
   ]
  }
 ],
 "metadata": {
  "language_info": {
   "name": "python"
  }
 },
 "nbformat": 4,
 "nbformat_minor": 5
}
